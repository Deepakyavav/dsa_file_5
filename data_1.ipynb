{
 "cells": [
  {
   "attachments": {},
   "cell_type": "markdown",
   "metadata": {},
   "source": [
    "# Q-1"
   ]
  },
  {
   "cell_type": "code",
   "execution_count": 1,
   "metadata": {},
   "outputs": [],
   "source": [
    "\n",
    "def construct2DArray(original, m,n):\n",
    "    ans = []\n",
    "    if len(original) == m*n: \n",
    "        for i in range(0, len(original), n): \n",
    "            ans.append(original[i:i+n])\n",
    "    return ans "
   ]
  },
  {
   "cell_type": "code",
   "execution_count": 2,
   "metadata": {},
   "outputs": [
    {
     "name": "stdout",
     "output_type": "stream",
     "text": [
      "[[1, 2], [3, 4]]\n"
     ]
    }
   ],
   "source": [
    "original = [1,2,3,4]\n",
    "m = 2\n",
    "n = 2\n",
    "print(construct2DArray(original,m,n))"
   ]
  },
  {
   "attachments": {},
   "cell_type": "markdown",
   "metadata": {},
   "source": [
    "# Q-2"
   ]
  },
  {
   "cell_type": "code",
   "execution_count": 3,
   "metadata": {},
   "outputs": [],
   "source": [
    "def fun(n):\n",
    "    res=1\n",
    "    for i in range(1,n):\n",
    "        ans=(i*(i+1))//2\n",
    "        if ans>n:\n",
    "            return res\n",
    "        res=max(res,i)\n",
    "    "
   ]
  },
  {
   "cell_type": "code",
   "execution_count": 4,
   "metadata": {},
   "outputs": [
    {
     "name": "stdout",
     "output_type": "stream",
     "text": [
      "2\n"
     ]
    }
   ],
   "source": [
    "n=5\n",
    "print(fun(n))"
   ]
  },
  {
   "attachments": {},
   "cell_type": "markdown",
   "metadata": {},
   "source": [
    "# Q-3"
   ]
  },
  {
   "cell_type": "code",
   "execution_count": 5,
   "metadata": {},
   "outputs": [],
   "source": [
    "def sortedSquares(nums):\n",
    "    i, j, n = 0, len(nums)-1, len(nums)-1\n",
    "    result = [0 for _ in range(len(nums))]\n",
    "    while n>=0:\n",
    "        if abs(nums[i])>abs(nums[j]):\n",
    "            result[n] = nums[i]**2\n",
    "            i += 1\n",
    "        else:\n",
    "            result[n] = nums[j]**2\n",
    "            j -= 1\n",
    "        n -= 1\n",
    "    return result"
   ]
  },
  {
   "cell_type": "code",
   "execution_count": 6,
   "metadata": {},
   "outputs": [
    {
     "name": "stdout",
     "output_type": "stream",
     "text": [
      "[0, 1, 9, 16, 100]\n"
     ]
    }
   ],
   "source": [
    "nums = [-4,-1,0,3,10]\n",
    "print(sortedSquares(nums))"
   ]
  },
  {
   "attachments": {},
   "cell_type": "markdown",
   "metadata": {},
   "source": [
    "# Q-4"
   ]
  },
  {
   "cell_type": "code",
   "execution_count": 7,
   "metadata": {},
   "outputs": [],
   "source": [
    "\n",
    "def findDifference(nums1, nums2):\n",
    "    n1=set(nums1)\n",
    "    n2=set(nums2)\n",
    "    r1=list(set(x for x in nums1 if x not in n2))\n",
    "    r2=list(set(x for x in nums2 if x not in n1))\n",
    "    return [r1,r2]"
   ]
  },
  {
   "cell_type": "code",
   "execution_count": 8,
   "metadata": {},
   "outputs": [
    {
     "name": "stdout",
     "output_type": "stream",
     "text": [
      "[[1, 3], [4, 6]]\n"
     ]
    }
   ],
   "source": [
    "nums1 = [1,2,3]\n",
    "nums2 = [2,4,6]\n",
    "print(findDifference(nums1, nums2))"
   ]
  },
  {
   "attachments": {},
   "cell_type": "markdown",
   "metadata": {},
   "source": [
    "# Q-5"
   ]
  },
  {
   "cell_type": "code",
   "execution_count": 10,
   "metadata": {},
   "outputs": [],
   "source": [
    "def findTheDistanceValue(a, b, d):\n",
    "    b.sort()\n",
    "    counter = 0\n",
    "    for i in a :\n",
    "        m =  0 \n",
    "        n = len(b)\n",
    "        flag = 0\n",
    "        while m < n :\n",
    "            mid = (m + n) // 2 \n",
    "            if i < b[mid] : n = mid\n",
    "            if i > b[mid] : m = mid + 1\n",
    "            if i == b[mid] : \n",
    "                flag = 1\n",
    "                break\n",
    "        if flag == 1 : continue\n",
    "        if m == n : \n",
    "            if m == 0 and abs(i - b[m]) > d : counter += 1\n",
    "            elif m == len(b) and abs(i - b[m-1]) > d : counter += 1\n",
    "            elif abs(b[m-1] - i) > d and abs(b[m] - i) > d : counter += 1\n",
    "    return counter"
   ]
  },
  {
   "cell_type": "code",
   "execution_count": 11,
   "metadata": {},
   "outputs": [
    {
     "name": "stdout",
     "output_type": "stream",
     "text": [
      "2\n"
     ]
    }
   ],
   "source": [
    "arr1 = [4,5,8]\n",
    "arr2 = [10,9,1,8]\n",
    "d = 2\n",
    "print(findTheDistanceValue(arr1,arr2,d))"
   ]
  },
  {
   "attachments": {},
   "cell_type": "markdown",
   "metadata": {},
   "source": [
    "# Q-6"
   ]
  },
  {
   "cell_type": "code",
   "execution_count": 12,
   "metadata": {},
   "outputs": [],
   "source": [
    "def findDuplicates(nums):\n",
    "    val={}\n",
    "    for i in nums:\n",
    "        if i in val:\n",
    "            val[i]+=1\n",
    "        else:\n",
    "            val[i]=1\n",
    "    keys=[key for key,values in val.items() if values==2]\n",
    "    return keys"
   ]
  },
  {
   "cell_type": "code",
   "execution_count": 13,
   "metadata": {},
   "outputs": [
    {
     "name": "stdout",
     "output_type": "stream",
     "text": [
      "[3, 2]\n"
     ]
    }
   ],
   "source": [
    "nums = [4,3,2,7,8,2,3,1]\n",
    "print(findDuplicates(nums))"
   ]
  },
  {
   "attachments": {},
   "cell_type": "markdown",
   "metadata": {},
   "source": [
    "# Q-7"
   ]
  },
  {
   "cell_type": "code",
   "execution_count": 14,
   "metadata": {},
   "outputs": [],
   "source": [
    "\n",
    "def findMin(nums):\n",
    "    def is_valid(mid: int) -> bool:\n",
    "        return nums[mid] <= nums[-1]\n",
    "\n",
    "    invalid = -1\n",
    "    valid = len(nums) - 1\n",
    "\n",
    "    while abs(valid - invalid) > 1:\n",
    "        mid = (valid + invalid) // 2\n",
    "\n",
    "        if is_valid(mid):\n",
    "            valid = mid\n",
    "        else:\n",
    "            invalid = mid\n",
    "\n",
    "    return nums[valid]"
   ]
  },
  {
   "cell_type": "code",
   "execution_count": 15,
   "metadata": {},
   "outputs": [
    {
     "name": "stdout",
     "output_type": "stream",
     "text": [
      "1\n"
     ]
    }
   ],
   "source": [
    "nums = [3,4,5,1,2]\n",
    "print(findMin(nums))"
   ]
  },
  {
   "attachments": {},
   "cell_type": "markdown",
   "metadata": {},
   "source": [
    "# Q-8"
   ]
  },
  {
   "cell_type": "code",
   "execution_count": 20,
   "metadata": {},
   "outputs": [],
   "source": [
    "import collections\n",
    "def findOriginalArray(changed):\n",
    "    counter = collections.Counter(changed)\n",
    "    res = []\n",
    "    for k in counter.keys():\n",
    "        \n",
    "        if k == 0:\n",
    "            # handle zero as special case\n",
    "            if counter[k] % 2 > 0:\n",
    "                return []\n",
    "            res += [0] * (counter[k] // 2)\n",
    "            \n",
    "        elif counter[k] > 0:\n",
    "            x = k\n",
    "            \n",
    "            # walk down the chain\n",
    "            while x % 2 == 0 and x // 2 in counter:\n",
    "                x = x // 2\n",
    "                \n",
    "            # walk up and process all numbers within the chain. mark the counts as 0\n",
    "            while x in counter:\n",
    "                if counter[x] > 0:\n",
    "                    res += [x] * counter[x]\n",
    "                    if counter[x+x] < counter[x]:\n",
    "                        return []\n",
    "                    counter[x+x] -= counter[x]\n",
    "                    counter[x] = 0\n",
    "                x += x\n",
    "    return res"
   ]
  },
  {
   "cell_type": "code",
   "execution_count": 21,
   "metadata": {},
   "outputs": [
    {
     "name": "stdout",
     "output_type": "stream",
     "text": [
      "[1, 4, 3]\n"
     ]
    }
   ],
   "source": [
    "changed = [1,3,4,2,6,8]\n",
    "print(findOriginalArray(changed))"
   ]
  },
  {
   "cell_type": "code",
   "execution_count": null,
   "metadata": {},
   "outputs": [],
   "source": []
  }
 ],
 "metadata": {
  "kernelspec": {
   "display_name": "Python 3",
   "language": "python",
   "name": "python3"
  },
  "language_info": {
   "codemirror_mode": {
    "name": "ipython",
    "version": 3
   },
   "file_extension": ".py",
   "mimetype": "text/x-python",
   "name": "python",
   "nbconvert_exporter": "python",
   "pygments_lexer": "ipython3",
   "version": "3.11.2"
  },
  "orig_nbformat": 4
 },
 "nbformat": 4,
 "nbformat_minor": 2
}
