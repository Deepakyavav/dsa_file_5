{
 "cells": [
  {
   "attachments": {},
   "cell_type": "markdown",
   "metadata": {},
   "source": [
    "# Q-1"
   ]
  },
  {
   "cell_type": "code",
   "execution_count": 1,
   "metadata": {},
   "outputs": [],
   "source": [
    "def diStringMatch(s):\n",
    "    per=[]\n",
    "    lower=0\n",
    "    upper=len(s)\n",
    "    for i in s:\n",
    "        if i=='I':\n",
    "            per.append(lower)\n",
    "            lower+=1\n",
    "        else:\n",
    "            per.append(upper)\n",
    "            upper-=1\n",
    "    if s[len(s)-1]=='I':\n",
    "        per.append(upper)\n",
    "    else:\n",
    "        per.append(lower)\n",
    "    return per"
   ]
  },
  {
   "cell_type": "code",
   "execution_count": 2,
   "metadata": {},
   "outputs": [
    {
     "name": "stdout",
     "output_type": "stream",
     "text": [
      "[0, 4, 1, 3, 2]\n"
     ]
    }
   ],
   "source": [
    "s = \"IDID\"\n",
    "print(diStringMatch(s))"
   ]
  },
  {
   "attachments": {},
   "cell_type": "markdown",
   "metadata": {},
   "source": [
    "# Q-2"
   ]
  },
  {
   "cell_type": "code",
   "execution_count": 3,
   "metadata": {},
   "outputs": [],
   "source": [
    "def searchMatrix(matrix, target):\n",
    "    l = 0 \n",
    "    r = len(matrix)\n",
    "    for i in range(len(matrix)):\n",
    "        if matrix[i][len(matrix[i])-1] >= target:\n",
    "            break\n",
    "    l,r = 0 , len(matrix[i])-1\n",
    "    while l <= r:\n",
    "        m = (l+r)//2\n",
    "        if matrix[i][m] > target:\n",
    "            r = m-1\n",
    "        elif matrix[i][m] < target:\n",
    "            l = m+1\n",
    "        else: return True\n",
    "    return False"
   ]
  },
  {
   "cell_type": "code",
   "execution_count": 4,
   "metadata": {},
   "outputs": [
    {
     "name": "stdout",
     "output_type": "stream",
     "text": [
      "True\n"
     ]
    }
   ],
   "source": [
    "matrix = [[1,3,5,7],[10,11,16,20],[23,30,34,60]]\n",
    "target = 3\n",
    "print(searchMatrix(matrix, target))"
   ]
  },
  {
   "attachments": {},
   "cell_type": "markdown",
   "metadata": {},
   "source": [
    "# Q-3"
   ]
  },
  {
   "cell_type": "code",
   "execution_count": 5,
   "metadata": {},
   "outputs": [],
   "source": [
    "def validMountainArray(arr):\n",
    "    place = arr.index(max(arr))\n",
    "    if place == 0 or place == len(arr) - 1:\n",
    "        return False\n",
    "    else:\n",
    "        value = True\n",
    "        i = 0\n",
    "        while i < place:\n",
    "            if arr[i] >= arr[i + 1]:\n",
    "                value = False\n",
    "                break\n",
    "            else:\n",
    "                i += 1\n",
    "        i = place + 1\n",
    "        if value:\n",
    "            while i < len(arr):\n",
    "                if arr[i - 1] <= arr[i]:\n",
    "                    print(i)\n",
    "                    return False\n",
    "                else:\n",
    "                    i += 1\n",
    "        else:\n",
    "            return False\n",
    "        return True"
   ]
  },
  {
   "cell_type": "code",
   "execution_count": 6,
   "metadata": {},
   "outputs": [
    {
     "name": "stdout",
     "output_type": "stream",
     "text": [
      "False\n"
     ]
    }
   ],
   "source": [
    "arr = [2,1]\n",
    "print(validMountainArray(arr))"
   ]
  },
  {
   "attachments": {},
   "cell_type": "markdown",
   "metadata": {},
   "source": [
    "# Q-4"
   ]
  },
  {
   "cell_type": "code",
   "execution_count": 9,
   "metadata": {},
   "outputs": [],
   "source": [
    "def maxLen(arr):\n",
    "    n=len(arr)\n",
    "    hash_map = {} \n",
    "    curr_sum = 0\n",
    "    max_len = 0\n",
    "    ending_index = -1\n",
    " \n",
    "    for i in range (0, n):\n",
    "        if(arr[i] == 0):\n",
    "            arr[i] = -1\n",
    "        else:\n",
    "    for i in range (0, n):\n",
    "        curr_sum = curr_sum + arr[i]\n",
    "        if (curr_sum == 0):\n",
    "            max_len = i + 1\n",
    "            ending_index = i\n",
    "        if curr_sum in hash_map:\n",
    "            if max_len < i - hash_map[curr_sum]:\n",
    "                max_len = i - hash_map[curr_sum]\n",
    "                ending_index = i\n",
    "        else:\n",
    "            hash_map[curr_sum] = i \n",
    "         \n",
    "    for i in range (0, n):\n",
    "        if(arr[i] == -1):\n",
    "            arr[i] = 0\n",
    "        else:\n",
    "            arr[i] = 1\n",
    "             \n",
    "    print (ending_index - max_len + 1, end =\" \")\n",
    "    print (\"to\", end = \" \")\n",
    "    print (ending_index)\n",
    " \n",
    "    return max_len"
   ]
  },
  {
   "cell_type": "code",
   "execution_count": 10,
   "metadata": {},
   "outputs": [
    {
     "name": "stdout",
     "output_type": "stream",
     "text": [
      "0 to 1\n",
      "2\n"
     ]
    }
   ],
   "source": [
    "nums = [0,1]\n",
    "print(maxLen(nums))"
   ]
  },
  {
   "attachments": {},
   "cell_type": "markdown",
   "metadata": {},
   "source": [
    "# Q5"
   ]
  },
  {
   "cell_type": "code",
   "execution_count": 2,
   "metadata": {},
   "outputs": [],
   "source": [
    "\n",
    "def minProductSum(nums1, nums2):\n",
    "    nums1.sort()\n",
    "    nums2.sort()\n",
    "    n, res = len(nums1), 0\n",
    "    for i in range(n):\n",
    "        res += nums1[i] * nums2[n - i - 1]\n",
    "    return res"
   ]
  },
  {
   "cell_type": "code",
   "execution_count": 3,
   "metadata": {},
   "outputs": [
    {
     "name": "stdout",
     "output_type": "stream",
     "text": [
      "40\n"
     ]
    }
   ],
   "source": [
    "nums1 = [5,3,4,2]\n",
    "nums2 = [4,2,2,5]\n",
    "print(minProductSum(nums1, nums2))"
   ]
  },
  {
   "attachments": {},
   "cell_type": "markdown",
   "metadata": {},
   "source": [
    "# Q-6"
   ]
  },
  {
   "cell_type": "code",
   "execution_count": 4,
   "metadata": {},
   "outputs": [],
   "source": [
    "import collections\n",
    "def findOriginalArray(changed):\n",
    "    counter = collections.Counter(changed)\n",
    "    res = []\n",
    "    for k in counter.keys():\n",
    "        \n",
    "        if k == 0:\n",
    "            # handle zero as special case\n",
    "            if counter[k] % 2 > 0:\n",
    "                return []\n",
    "            res += [0] * (counter[k] // 2)\n",
    "            \n",
    "        elif counter[k] > 0:\n",
    "            x = k\n",
    "            \n",
    "            # walk down the chain\n",
    "            while x % 2 == 0 and x // 2 in counter:\n",
    "                x = x // 2\n",
    "                \n",
    "            # walk up and process all numbers within the chain. mark the counts as 0\n",
    "            while x in counter:\n",
    "                if counter[x] > 0:\n",
    "                    res += [x] * counter[x]\n",
    "                    if counter[x+x] < counter[x]:\n",
    "                        return []\n",
    "                    counter[x+x] -= counter[x]\n",
    "                    counter[x] = 0\n",
    "                x += x\n",
    "    return res"
   ]
  },
  {
   "cell_type": "code",
   "execution_count": 5,
   "metadata": {},
   "outputs": [
    {
     "name": "stdout",
     "output_type": "stream",
     "text": [
      "[1, 4, 3]\n"
     ]
    }
   ],
   "source": [
    "changed = [1,3,4,2,6,8]\n",
    "print(findOriginalArray(changed))"
   ]
  },
  {
   "attachments": {},
   "cell_type": "markdown",
   "metadata": {},
   "source": [
    "# Q-7"
   ]
  },
  {
   "cell_type": "code",
   "execution_count": 6,
   "metadata": {},
   "outputs": [],
   "source": [
    "def generateMatrix(n):\n",
    "    matrix = [[0] * n for _ in range(n)]\n",
    "    num = 1\n",
    "    row = 0\n",
    "    col = 0\n",
    "    direction = 0\n",
    "    dr = [0, 1, 0, -1]\n",
    "    dc = [1, 0, -1, 0]\n",
    "    while num <= n * n:\n",
    "        matrix[row][col] = num\n",
    "        num += 1\n",
    "        nextRow = row + dr[direction]\n",
    "        nextCol = col + dc[direction]\n",
    "        if nextRow < 0 or nextRow >= n or nextCol < 0 or nextCol >= n or matrix[nextRow][nextCol] != 0:\n",
    "            direction = (direction + 1) % 4\n",
    "        row += dr[direction]\n",
    "        col += dc[direction]\n",
    "    return matrix"
   ]
  },
  {
   "cell_type": "code",
   "execution_count": 8,
   "metadata": {},
   "outputs": [
    {
     "name": "stdout",
     "output_type": "stream",
     "text": [
      "[[1, 2, 3], [8, 9, 4], [7, 6, 5]]\n"
     ]
    }
   ],
   "source": [
    "n=3\n",
    "print(generateMatrix(n))"
   ]
  },
  {
   "attachments": {},
   "cell_type": "markdown",
   "metadata": {},
   "source": [
    "# Q-8"
   ]
  },
  {
   "cell_type": "code",
   "execution_count": 9,
   "metadata": {},
   "outputs": [],
   "source": [
    "\n",
    "def multiply(mat1, mat2):\n",
    "    r1, c1, c2 = len(mat1), len(mat1[0]), len(mat2[0])\n",
    "    res = [[0] * c2 for _ in range(r1)]\n",
    "    for i in range(r1):\n",
    "        for j in range(c2):\n",
    "            for k in range(c1):\n",
    "                res[i][j] += mat1[i][k] * mat2[k][j]\n",
    "    return res"
   ]
  },
  {
   "cell_type": "code",
   "execution_count": 10,
   "metadata": {},
   "outputs": [],
   "source": [
    "mat1 = [[1,0,0],[-1,0,3]]\n",
    "mat2 = [[7,0,0],[0,0,0],[0,0,1]]"
   ]
  },
  {
   "cell_type": "code",
   "execution_count": 11,
   "metadata": {},
   "outputs": [
    {
     "name": "stdout",
     "output_type": "stream",
     "text": [
      "[[7, 0, 0], [-7, 0, 3]]\n"
     ]
    }
   ],
   "source": [
    "print(multiply(mat1, mat2))"
   ]
  },
  {
   "cell_type": "code",
   "execution_count": null,
   "metadata": {},
   "outputs": [],
   "source": []
  }
 ],
 "metadata": {
  "kernelspec": {
   "display_name": "Python 3",
   "language": "python",
   "name": "python3"
  },
  "language_info": {
   "codemirror_mode": {
    "name": "ipython",
    "version": 3
   },
   "file_extension": ".py",
   "mimetype": "text/x-python",
   "name": "python",
   "nbconvert_exporter": "python",
   "pygments_lexer": "ipython3",
   "version": "3.11.2"
  },
  "orig_nbformat": 4
 },
 "nbformat": 4,
 "nbformat_minor": 2
}
