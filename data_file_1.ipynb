{
 "cells": [
  {
   "attachments": {},
   "cell_type": "markdown",
   "metadata": {},
   "source": [
    "# q-1"
   ]
  },
  {
   "cell_type": "code",
   "execution_count": 2,
   "metadata": {},
   "outputs": [
    {
     "ename": "NameError",
     "evalue": "name 'List' is not defined",
     "output_type": "error",
     "traceback": [
      "\u001b[1;31m---------------------------------------------------------------------------\u001b[0m",
      "\u001b[1;31mNameError\u001b[0m                                 Traceback (most recent call last)",
      "Cell \u001b[1;32mIn[2], line 2\u001b[0m\n\u001b[0;32m      1\u001b[0m \u001b[39m# 1\u001b[39;00m\n\u001b[1;32m----> 2\u001b[0m \u001b[39mclass\u001b[39;49;00m \u001b[39mSolution\u001b[39;49;00m:\n\u001b[0;32m      3\u001b[0m     \u001b[39mdef\u001b[39;49;00m \u001b[39mdiStringMatch\u001b[39;49m(\u001b[39mself\u001b[39;49m, s: \u001b[39mstr\u001b[39;49m) \u001b[39m-\u001b[39;49m\u001b[39m>\u001b[39;49m List[\u001b[39mint\u001b[39;49m]:\n\u001b[0;32m      4\u001b[0m         per\u001b[39m=\u001b[39;49m[]\n",
      "Cell \u001b[1;32mIn[2], line 3\u001b[0m, in \u001b[0;36mSolution\u001b[1;34m()\u001b[0m\n\u001b[0;32m      2\u001b[0m \u001b[39mclass\u001b[39;00m \u001b[39mSolution\u001b[39;00m:\n\u001b[1;32m----> 3\u001b[0m     \u001b[39mdef\u001b[39;00m \u001b[39mdiStringMatch\u001b[39m(\u001b[39mself\u001b[39m, s: \u001b[39mstr\u001b[39m) \u001b[39m-\u001b[39m\u001b[39m>\u001b[39m List[\u001b[39mint\u001b[39m]:\n\u001b[0;32m      4\u001b[0m         per\u001b[39m=\u001b[39m[]\n\u001b[0;32m      5\u001b[0m         lower\u001b[39m=\u001b[39m\u001b[39m0\u001b[39m\n",
      "\u001b[1;31mNameError\u001b[0m: name 'List' is not defined"
     ]
    }
   ],
   "source": [
    "def diStringMatch(self, s):\n",
    "    per=[]\n",
    "    lower=0\n",
    "    upper=len(s)\n",
    "    for i in s:\n",
    "        if i=='I':\n",
    "            per.append(lower)\n",
    "            lower+=1\n",
    "        else:\n",
    "            per.append(upper)\n",
    "            upper-=1\n",
    "    if s[len(s)-1]=='I':\n",
    "        per.append(upper)\n",
    "    else:\n",
    "        per.append(lower)\n",
    "    return per"
   ]
  },
  {
   "cell_type": "code",
   "execution_count": 3,
   "metadata": {},
   "outputs": [],
   "source": [
    "# 2"
   ]
  },
  {
   "cell_type": "code",
   "execution_count": 4,
   "metadata": {},
   "outputs": [],
   "source": [
    "class Solution:\n",
    "    def searchMatrix(self, matrix, target):\n",
    "        l = 0 \n",
    "        r = len(matrix)\n",
    "        for i in range(len(matrix)):\n",
    "            if matrix[i][len(matrix[i])-1] >= target:\n",
    "                break\n",
    "        l,r = 0 , len(matrix[i])-1\n",
    "        while l <= r:\n",
    "            m = (l+r)//2\n",
    "            if matrix[i][m] > target:\n",
    "                r = m-1\n",
    "            elif matrix[i][m] < target:\n",
    "                l = m+1\n",
    "            else: return True\n",
    "        return False"
   ]
  },
  {
   "cell_type": "code",
   "execution_count": 5,
   "metadata": {},
   "outputs": [],
   "source": [
    "# 3"
   ]
  },
  {
   "cell_type": "code",
   "execution_count": 6,
   "metadata": {},
   "outputs": [
    {
     "ename": "NameError",
     "evalue": "name 'List' is not defined",
     "output_type": "error",
     "traceback": [
      "\u001b[1;31m---------------------------------------------------------------------------\u001b[0m",
      "\u001b[1;31mNameError\u001b[0m                                 Traceback (most recent call last)",
      "Cell \u001b[1;32mIn[6], line 1\u001b[0m\n\u001b[1;32m----> 1\u001b[0m \u001b[39mclass\u001b[39;49;00m \u001b[39mSolution\u001b[39;49;00m:\n\u001b[0;32m      2\u001b[0m     \u001b[39mdef\u001b[39;49;00m \u001b[39mvalidMountainArray\u001b[39;49m(\u001b[39mself\u001b[39;49m, arr: List[\u001b[39mint\u001b[39;49m]) \u001b[39m-\u001b[39;49m\u001b[39m>\u001b[39;49m \u001b[39mbool\u001b[39;49m:\n\u001b[0;32m      3\u001b[0m         place \u001b[39m=\u001b[39;49m arr\u001b[39m.\u001b[39;49mindex(\u001b[39mmax\u001b[39;49m(arr))\n",
      "Cell \u001b[1;32mIn[6], line 2\u001b[0m, in \u001b[0;36mSolution\u001b[1;34m()\u001b[0m\n\u001b[0;32m      1\u001b[0m \u001b[39mclass\u001b[39;00m \u001b[39mSolution\u001b[39;00m:\n\u001b[1;32m----> 2\u001b[0m     \u001b[39mdef\u001b[39;00m \u001b[39mvalidMountainArray\u001b[39m(\u001b[39mself\u001b[39m, arr: List[\u001b[39mint\u001b[39m]) \u001b[39m-\u001b[39m\u001b[39m>\u001b[39m \u001b[39mbool\u001b[39m:\n\u001b[0;32m      3\u001b[0m         place \u001b[39m=\u001b[39m arr\u001b[39m.\u001b[39mindex(\u001b[39mmax\u001b[39m(arr))\n\u001b[0;32m      4\u001b[0m         \u001b[39mif\u001b[39;00m place \u001b[39m==\u001b[39m \u001b[39m0\u001b[39m \u001b[39mor\u001b[39;00m place \u001b[39m==\u001b[39m \u001b[39mlen\u001b[39m(arr) \u001b[39m-\u001b[39m \u001b[39m1\u001b[39m:\n",
      "\u001b[1;31mNameError\u001b[0m: name 'List' is not defined"
     ]
    }
   ],
   "source": [
    "class Solution:\n",
    "    def validMountainArray(self, arr: List[int]) -> bool:\n",
    "        place = arr.index(max(arr))\n",
    "        if place == 0 or place == len(arr) - 1:\n",
    "            return False\n",
    "        else:\n",
    "            value = True\n",
    "            i = 0\n",
    "            while i < place:\n",
    "                if arr[i] >= arr[i + 1]:\n",
    "                    value = False\n",
    "                    break\n",
    "                else:\n",
    "                    i += 1\n",
    "            i = place + 1\n",
    "            if value:\n",
    "                while i < len(arr):\n",
    "                    if arr[i - 1] <= arr[i]:\n",
    "                        print(i)\n",
    "                        return False\n",
    "                    else:\n",
    "                        i += 1\n",
    "            else:\n",
    "                return False\n",
    "            return True"
   ]
  },
  {
   "cell_type": "code",
   "execution_count": 7,
   "metadata": {},
   "outputs": [],
   "source": [
    "#4"
   ]
  },
  {
   "cell_type": "code",
   "execution_count": 8,
   "metadata": {},
   "outputs": [],
   "source": [
    "def maxLen(arr, n):\n",
    " \n",
    "    # NOTE: Dictionary in python in\n",
    "    # implemented as Hash Maps.\n",
    "    # Create an empty hash map (dictionary)\n",
    "    hash_map = {} \n",
    "    curr_sum = 0\n",
    "    max_len = 0\n",
    "    ending_index = -1\n",
    " \n",
    "    for i in range (0, n):\n",
    "        if(arr[i] == 0):\n",
    "            arr[i] = -1\n",
    "        else:\n",
    "            arr[i] = 1\n",
    " \n",
    "    # Traverse through the given array\n",
    "    for i in range (0, n):\n",
    "     \n",
    "        # Add current element to sum\n",
    "        curr_sum = curr_sum + arr[i]\n",
    " \n",
    "        # To handle sum = 0 at last index\n",
    "        if (curr_sum == 0):\n",
    "            max_len = i + 1\n",
    "            ending_index = i\n",
    " \n",
    "        # If this sum is seen before,\n",
    "        if curr_sum in hash_map:\n",
    "             \n",
    "            # If max_len is smaller than new subarray\n",
    "            # Update max_len and ending_index\n",
    "            if max_len < i - hash_map[curr_sum]:\n",
    "                max_len = i - hash_map[curr_sum]\n",
    "                ending_index = i\n",
    "        else:\n",
    " \n",
    "            # else put this sum in dictionary\n",
    "            hash_map[curr_sum] = i \n",
    "         \n",
    "    for i in range (0, n):\n",
    "        if(arr[i] == -1):\n",
    "            arr[i] = 0\n",
    "        else:\n",
    "            arr[i] = 1\n",
    "             \n",
    "    print (ending_index - max_len + 1, end =\" \")\n",
    "    print (\"to\", end = \" \")\n",
    "    print (ending_index)\n",
    " \n",
    "    return max_len"
   ]
  },
  {
   "cell_type": "code",
   "execution_count": 9,
   "metadata": {},
   "outputs": [],
   "source": [
    "# 5"
   ]
  },
  {
   "attachments": {},
   "cell_type": "markdown",
   "metadata": {},
   "source": [
    "# 5"
   ]
  },
  {
   "cell_type": "code",
   "execution_count": 13,
   "metadata": {},
   "outputs": [
    {
     "ename": "SyntaxError",
     "evalue": "invalid syntax (1677027136.py, line 1)",
     "output_type": "error",
     "traceback": [
      "\u001b[1;36m  Cell \u001b[1;32mIn[13], line 1\u001b[1;36m\u001b[0m\n\u001b[1;33m    class Solution {\u001b[0m\n\u001b[1;37m                   ^\u001b[0m\n\u001b[1;31mSyntaxError\u001b[0m\u001b[1;31m:\u001b[0m invalid syntax\n"
     ]
    }
   ],
   "source": [
    "class Solution {\n",
    "    public int minProductSum(int[] nums1, int[] nums2) {\n",
    "        int ans = 0;\n",
    "        // Sort nums1 and nums2 in ascending order.\n",
    "        Arrays.sort(nums2);\n",
    "        Arrays.sort(nums1);\n",
    "        \n",
    "        int i = 0;\n",
    "        int j = nums2.length-1;\n",
    "        // Iterate over two sorted arrays and calculate the \n",
    "        // cumulative product sum.        \n",
    "        while(i < nums1.length && j >= 0)\n",
    "        {\n",
    "            ans += nums1[i] * nums2[j];\n",
    "            i++;\n",
    "            j--;\n",
    "        }\n",
    "        \n",
    "        return ans;\n",
    "    }\n",
    "}"
   ]
  },
  {
   "cell_type": "code",
   "execution_count": 14,
   "metadata": {},
   "outputs": [
    {
     "ename": "NameError",
     "evalue": "name 'List' is not defined",
     "output_type": "error",
     "traceback": [
      "\u001b[1;31m---------------------------------------------------------------------------\u001b[0m",
      "\u001b[1;31mNameError\u001b[0m                                 Traceback (most recent call last)",
      "Cell \u001b[1;32mIn[14], line 1\u001b[0m\n\u001b[1;32m----> 1\u001b[0m \u001b[39mclass\u001b[39;49;00m \u001b[39mSolution\u001b[39;49;00m:\n\u001b[0;32m      2\u001b[0m     \u001b[39mdef\u001b[39;49;00m \u001b[39mminProductSum\u001b[39;49m(\u001b[39mself\u001b[39;49m, nums1: List[\u001b[39mint\u001b[39;49m], nums2: List[\u001b[39mint\u001b[39;49m]) \u001b[39m-\u001b[39;49m\u001b[39m>\u001b[39;49m \u001b[39mint\u001b[39;49m:\n\u001b[0;32m      3\u001b[0m         nums1\u001b[39m.\u001b[39;49msort()\n",
      "Cell \u001b[1;32mIn[14], line 2\u001b[0m, in \u001b[0;36mSolution\u001b[1;34m()\u001b[0m\n\u001b[0;32m      1\u001b[0m \u001b[39mclass\u001b[39;00m \u001b[39mSolution\u001b[39;00m:\n\u001b[1;32m----> 2\u001b[0m     \u001b[39mdef\u001b[39;00m \u001b[39mminProductSum\u001b[39m(\u001b[39mself\u001b[39m, nums1: List[\u001b[39mint\u001b[39m], nums2: List[\u001b[39mint\u001b[39m]) \u001b[39m-\u001b[39m\u001b[39m>\u001b[39m \u001b[39mint\u001b[39m:\n\u001b[0;32m      3\u001b[0m         nums1\u001b[39m.\u001b[39msort()\n\u001b[0;32m      4\u001b[0m         nums2\u001b[39m.\u001b[39msort()\n",
      "\u001b[1;31mNameError\u001b[0m: name 'List' is not defined"
     ]
    }
   ],
   "source": [
    "class Solution:\n",
    "    def minProductSum(self, nums1: List[int], nums2: List[int]) -> int:\n",
    "        nums1.sort()\n",
    "        nums2.sort()\n",
    "        n, res = len(nums1), 0\n",
    "        for i in range(n):\n",
    "            res += nums1[i] * nums2[n - i - 1]\n",
    "        return res"
   ]
  },
  {
   "cell_type": "code",
   "execution_count": 15,
   "metadata": {},
   "outputs": [],
   "source": [
    "# 6"
   ]
  },
  {
   "cell_type": "code",
   "execution_count": 16,
   "metadata": {},
   "outputs": [],
   "source": [
    "import collections\n",
    "def findOriginalArray(changed):\n",
    "    counter = collections.Counter(changed)\n",
    "    res = []\n",
    "    for k in counter.keys():\n",
    "        \n",
    "        if k == 0:\n",
    "            # handle zero as special case\n",
    "            if counter[k] % 2 > 0:\n",
    "                return []\n",
    "            res += [0] * (counter[k] // 2)\n",
    "            \n",
    "        elif counter[k] > 0:\n",
    "            x = k\n",
    "            \n",
    "            # walk down the chain\n",
    "            while x % 2 == 0 and x // 2 in counter:\n",
    "                x = x // 2\n",
    "                \n",
    "            # walk up and process all numbers within the chain. mark the counts as 0\n",
    "            while x in counter:\n",
    "                if counter[x] > 0:\n",
    "                    res += [x] * counter[x]\n",
    "                    if counter[x+x] < counter[x]:\n",
    "                        return []\n",
    "                    counter[x+x] -= counter[x]\n",
    "                    counter[x] = 0\n",
    "                x += x\n",
    "    return res"
   ]
  },
  {
   "cell_type": "code",
   "execution_count": 17,
   "metadata": {},
   "outputs": [
    {
     "name": "stdout",
     "output_type": "stream",
     "text": [
      "[1, 4, 3]\n"
     ]
    }
   ],
   "source": [
    "changed = [1,3,4,2,6,8]\n",
    "print(findOriginalArray(changed))"
   ]
  },
  {
   "cell_type": "code",
   "execution_count": 19,
   "metadata": {},
   "outputs": [],
   "source": [
    "# 7"
   ]
  },
  {
   "cell_type": "code",
   "execution_count": 20,
   "metadata": {},
   "outputs": [
    {
     "ename": "NameError",
     "evalue": "name 'List' is not defined",
     "output_type": "error",
     "traceback": [
      "\u001b[1;31m---------------------------------------------------------------------------\u001b[0m",
      "\u001b[1;31mNameError\u001b[0m                                 Traceback (most recent call last)",
      "Cell \u001b[1;32mIn[20], line 1\u001b[0m\n\u001b[1;32m----> 1\u001b[0m \u001b[39mdef\u001b[39;00m \u001b[39mgenerateMatrix\u001b[39m(n: \u001b[39mint\u001b[39m) \u001b[39m-\u001b[39m\u001b[39m>\u001b[39m List[List[\u001b[39mint\u001b[39m]]:\n\u001b[0;32m      2\u001b[0m     matrix \u001b[39m=\u001b[39m [[\u001b[39m0\u001b[39m] \u001b[39m*\u001b[39m n \u001b[39mfor\u001b[39;00m _ \u001b[39min\u001b[39;00m \u001b[39mrange\u001b[39m(n)]\n\u001b[0;32m      3\u001b[0m     num \u001b[39m=\u001b[39m \u001b[39m1\u001b[39m\n",
      "\u001b[1;31mNameError\u001b[0m: name 'List' is not defined"
     ]
    }
   ],
   "source": [
    "def generateMatrix(n):\n",
    "    matrix = [[0] * n for _ in range(n)]\n",
    "    num = 1\n",
    "    row = 0\n",
    "    col = 0\n",
    "    direction = 0\n",
    "    dr = [0, 1, 0, -1]\n",
    "    dc = [1, 0, -1, 0]\n",
    "    while num <= n * n:\n",
    "        matrix[row][col] = num\n",
    "        num += 1\n",
    "        nextRow = row + dr[direction]\n",
    "        nextCol = col + dc[direction]\n",
    "        if nextRow < 0 or nextRow >= n or nextCol < 0 or nextCol >= n or matrix[nextRow][nextCol] != 0:\n",
    "            direction = (direction + 1) % 4\n",
    "        row += dr[direction]\n",
    "        col += dc[direction]\n",
    "    return matrix"
   ]
  },
  {
   "cell_type": "code",
   "execution_count": 18,
   "metadata": {},
   "outputs": [
    {
     "ename": "NameError",
     "evalue": "name 'List' is not defined",
     "output_type": "error",
     "traceback": [
      "\u001b[1;31m---------------------------------------------------------------------------\u001b[0m",
      "\u001b[1;31mNameError\u001b[0m                                 Traceback (most recent call last)",
      "Cell \u001b[1;32mIn[18], line 2\u001b[0m\n\u001b[0;32m      1\u001b[0m \u001b[39m# 8\u001b[39;00m\n\u001b[1;32m----> 2\u001b[0m \u001b[39mclass\u001b[39;49;00m \u001b[39mSolution\u001b[39;49;00m:\n\u001b[0;32m      3\u001b[0m     \u001b[39mdef\u001b[39;49;00m \u001b[39mmultiply\u001b[39;49m(\u001b[39mself\u001b[39;49m, mat1: List[List[\u001b[39mint\u001b[39;49m]], mat2: List[List[\u001b[39mint\u001b[39;49m]]) \u001b[39m-\u001b[39;49m\u001b[39m>\u001b[39;49m List[List[\u001b[39mint\u001b[39;49m]]:\n\u001b[0;32m      4\u001b[0m         r1, c1, c2 \u001b[39m=\u001b[39;49m \u001b[39mlen\u001b[39;49m(mat1), \u001b[39mlen\u001b[39;49m(mat1[\u001b[39m0\u001b[39;49m]), \u001b[39mlen\u001b[39;49m(mat2[\u001b[39m0\u001b[39;49m])\n",
      "Cell \u001b[1;32mIn[18], line 3\u001b[0m, in \u001b[0;36mSolution\u001b[1;34m()\u001b[0m\n\u001b[0;32m      2\u001b[0m \u001b[39mclass\u001b[39;00m \u001b[39mSolution\u001b[39;00m:\n\u001b[1;32m----> 3\u001b[0m     \u001b[39mdef\u001b[39;00m \u001b[39mmultiply\u001b[39m(\u001b[39mself\u001b[39m, mat1: List[List[\u001b[39mint\u001b[39m]], mat2: List[List[\u001b[39mint\u001b[39m]]) \u001b[39m-\u001b[39m\u001b[39m>\u001b[39m List[List[\u001b[39mint\u001b[39m]]:\n\u001b[0;32m      4\u001b[0m         r1, c1, c2 \u001b[39m=\u001b[39m \u001b[39mlen\u001b[39m(mat1), \u001b[39mlen\u001b[39m(mat1[\u001b[39m0\u001b[39m]), \u001b[39mlen\u001b[39m(mat2[\u001b[39m0\u001b[39m])\n\u001b[0;32m      5\u001b[0m         res \u001b[39m=\u001b[39m [[\u001b[39m0\u001b[39m] \u001b[39m*\u001b[39m c2 \u001b[39mfor\u001b[39;00m _ \u001b[39min\u001b[39;00m \u001b[39mrange\u001b[39m(r1)]\n",
      "\u001b[1;31mNameError\u001b[0m: name 'List' is not defined"
     ]
    }
   ],
   "source": [
    "# 8\n",
    "class Solution:\n",
    "    def multiply(self, mat1: List[List[int]], mat2: List[List[int]]) -> List[List[int]]:\n",
    "        r1, c1, c2 = len(mat1), len(mat1[0]), len(mat2[0])\n",
    "        res = [[0] * c2 for _ in range(r1)]\n",
    "        for i in range(r1):\n",
    "            for j in range(c2):\n",
    "                for k in range(c1):\n",
    "                    res[i][j] += mat1[i][k] * mat2[k][j]\n",
    "        return res"
   ]
  },
  {
   "cell_type": "code",
   "execution_count": null,
   "metadata": {},
   "outputs": [],
   "source": []
  }
 ],
 "metadata": {
  "kernelspec": {
   "display_name": "Python 3",
   "language": "python",
   "name": "python3"
  },
  "language_info": {
   "codemirror_mode": {
    "name": "ipython",
    "version": 3
   },
   "file_extension": ".py",
   "mimetype": "text/x-python",
   "name": "python",
   "nbconvert_exporter": "python",
   "pygments_lexer": "ipython3",
   "version": "3.11.2"
  },
  "orig_nbformat": 4
 },
 "nbformat": 4,
 "nbformat_minor": 2
}
